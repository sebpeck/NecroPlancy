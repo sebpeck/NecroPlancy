{
 "cells": [
  {
   "cell_type": "code",
   "execution_count": 1,
   "id": "a28842bf",
   "metadata": {},
   "outputs": [
    {
     "ename": "NotImplementedError",
     "evalue": "Adafruit-PlatformDetect version 3.22.1 was unable to identify the board and/or microcontroller running the Windows platform. Please be sure you have the latest packages running: 'pip3 install --upgrade adafruit-blinka adafruit-platformdetect'",
     "output_type": "error",
     "traceback": [
      "\u001b[1;31m---------------------------------------------------------------------------\u001b[0m",
      "\u001b[1;31mNotImplementedError\u001b[0m                       Traceback (most recent call last)",
      "\u001b[1;32mC:\\Users\\SEBAST~1\\AppData\\Local\\Temp/ipykernel_10768/2508775976.py\u001b[0m in \u001b[0;36m<module>\u001b[1;34m\u001b[0m\n\u001b[0;32m      3\u001b[0m \u001b[1;32mimport\u001b[0m \u001b[0msys\u001b[0m\u001b[1;33m\u001b[0m\u001b[1;33m\u001b[0m\u001b[0m\n\u001b[0;32m      4\u001b[0m \u001b[1;32mimport\u001b[0m \u001b[0mtime\u001b[0m\u001b[1;33m\u001b[0m\u001b[1;33m\u001b[0m\u001b[0m\n\u001b[1;32m----> 5\u001b[1;33m \u001b[1;32mimport\u001b[0m \u001b[0mboard\u001b[0m\u001b[1;33m\u001b[0m\u001b[1;33m\u001b[0m\u001b[0m\n\u001b[0m\u001b[0;32m      6\u001b[0m \u001b[1;32mimport\u001b[0m \u001b[0mRPi\u001b[0m\u001b[1;33m.\u001b[0m\u001b[0mGPIO\u001b[0m \u001b[1;32mas\u001b[0m \u001b[0mGPIO\u001b[0m\u001b[1;33m\u001b[0m\u001b[1;33m\u001b[0m\u001b[0m\n\u001b[0;32m      7\u001b[0m \u001b[1;33m\u001b[0m\u001b[0m\n",
      "\u001b[1;32mc:\\users\\sebastian\\miniconda3\\lib\\site-packages\\board.py\u001b[0m in \u001b[0;36m<module>\u001b[1;34m\u001b[0m\n\u001b[0;32m    268\u001b[0m \u001b[1;33m\u001b[0m\u001b[0m\n\u001b[0;32m    269\u001b[0m     \u001b[0mpackage\u001b[0m \u001b[1;33m=\u001b[0m \u001b[0mstr\u001b[0m\u001b[1;33m(\u001b[0m\u001b[0mpkg_resources\u001b[0m\u001b[1;33m.\u001b[0m\u001b[0mget_distribution\u001b[0m\u001b[1;33m(\u001b[0m\u001b[1;34m\"adafruit_platformdetect\"\u001b[0m\u001b[1;33m)\u001b[0m\u001b[1;33m)\u001b[0m\u001b[1;33m.\u001b[0m\u001b[0msplit\u001b[0m\u001b[1;33m(\u001b[0m\u001b[1;33m)\u001b[0m\u001b[1;33m\u001b[0m\u001b[1;33m\u001b[0m\u001b[0m\n\u001b[1;32m--> 270\u001b[1;33m     raise NotImplementedError(\n\u001b[0m\u001b[0;32m    271\u001b[0m         \u001b[1;34m\"{1} version {2} was unable to identify the board and/or microcontroller running \"\u001b[0m\u001b[1;33m\u001b[0m\u001b[1;33m\u001b[0m\u001b[0m\n\u001b[0;32m    272\u001b[0m         \u001b[1;34m\"the {0} platform. Please be sure you have the latest packages running: 'pip3 install \"\u001b[0m\u001b[1;33m\u001b[0m\u001b[1;33m\u001b[0m\u001b[0m\n",
      "\u001b[1;31mNotImplementedError\u001b[0m: Adafruit-PlatformDetect version 3.22.1 was unable to identify the board and/or microcontroller running the Windows platform. Please be sure you have the latest packages running: 'pip3 install --upgrade adafruit-blinka adafruit-platformdetect'"
     ]
    }
   ],
   "source": [
    "#import statements for OS stuff\n",
    "import os\n",
    "import sys\n",
    "import time\n",
    "from datetime import date\n",
    "import board\n",
    "import RPi.GPIO as GPIO\n",
    "\n",
    "#for data\n",
    "import numpy as np\n",
    "import pandas as pd\n",
    "import matplotlib.pyplot as plt\n",
    "\n",
    "#for interactive plots\n",
    "from ipywidgets import widgets, interactive\n",
    "\n",
    "#hide those pesky warnings\n",
    "import warnings\n",
    "warnings.filterwarnings('ignore')\n",
    "\n",
    "#for filechecking\n",
    "from os.path import exists\n",
    "\n",
    "#for sensors\n",
    "import adafruit_bme680\n",
    "import adafruit_seesaw.seesaw as seesaw"
   ]
  },
  {
   "cell_type": "code",
   "execution_count": null,
   "id": "14749b72",
   "metadata": {},
   "outputs": [],
   "source": []
  },
  {
   "cell_type": "code",
   "execution_count": null,
   "id": "ad625d46",
   "metadata": {},
   "outputs": [],
   "source": [
    "#i2c sensor\n",
    "i2c = board.I2C()\n",
    "\n",
    "ss= Seesaw(i2c, addr = 0x36)\n",
    "\n",
    "bme680 = adafruit_bme680.Adafruit_BME680_I2C(i2c, debug=False)\n",
    "bme680.sea_level_pressure = 1013.25\n",
    "temperature_offset = -5\n",
    "\n",
    "GPIO.setmode(GPIO.BOARD)\n",
    "GPIO.setwarnings(False)\n",
    "#light\n",
    "GPIO.setup(8, GPIO.OUT)\n",
    "#pump\n",
    "GPIO.setup(10, GPIO.OUT)\n",
    "\n",
    "\n",
    "TIME_STEP = 1\n",
    "THRESHOLDVAL = 300\n",
    "totalTime = 0\n",
    "startDate = date.today\n",
    "\n",
    "df = pd.DataFrame()\n",
    "df['Time'] = 0\n",
    "df['Air Temp'] = 0.0\n",
    "df['Soil Temp'] = 0.0\n",
    "df['Humidity'] = 0.0\n",
    "df['Moisture'] = 0.0\n",
    "df['Gas'] = 0.0\n",
    "\n"
   ]
  },
  {
   "cell_type": "code",
   "execution_count": null,
   "id": "d0803dd1",
   "metadata": {},
   "outputs": [],
   "source": [
    "def getDate():\n",
    "    return date.today()"
   ]
  },
  {
   "cell_type": "code",
   "execution_count": null,
   "id": "c0f62823",
   "metadata": {},
   "outputs": [],
   "source": [
    "def getTempAir():\n",
    "    return (bme680.temperature + temperature_offset)"
   ]
  },
  {
   "cell_type": "code",
   "execution_count": null,
   "id": "3d9d326e",
   "metadata": {},
   "outputs": [],
   "source": [
    "def getGas():\n",
    "    return bme680.gas"
   ]
  },
  {
   "cell_type": "code",
   "execution_count": null,
   "id": "aa903fc8",
   "metadata": {},
   "outputs": [],
   "source": [
    "def getHumidity():\n",
    "    return bme680.relative_humidity"
   ]
  },
  {
   "cell_type": "code",
   "execution_count": null,
   "id": "dc665bd9",
   "metadata": {},
   "outputs": [],
   "source": [
    "def getMoisture():\n",
    "    return (ss.moisture_read())"
   ]
  },
  {
   "cell_type": "code",
   "execution_count": null,
   "id": "7669cee8",
   "metadata": {},
   "outputs": [],
   "source": [
    "def getSoilTemp():\n",
    "    return (ss.getTemp())"
   ]
  },
  {
   "cell_type": "code",
   "execution_count": null,
   "id": "25994153",
   "metadata": {},
   "outputs": [],
   "source": [
    "def plotDataPoint(df, time, tempA, tempS, hum, moist, gas):\n",
    "    df.loc[len(df.index)] = [time, tempA, tempS, hum, moist, gas]\n",
    "    print(df.loc[len(df.index)])"
   ]
  },
  {
   "cell_type": "code",
   "execution_count": null,
   "id": "2bf522ba",
   "metadata": {},
   "outputs": [],
   "source": [
    "def runWater():\n",
    "    GPIO.output(10,GPIO.HIGH)"
   ]
  },
  {
   "cell_type": "code",
   "execution_count": null,
   "id": "9cb0f380",
   "metadata": {},
   "outputs": [],
   "source": [
    "def stopWater():\n",
    "    GPIO.output(10,GPIO.LOW)"
   ]
  },
  {
   "cell_type": "code",
   "execution_count": null,
   "id": "e7fed6d6",
   "metadata": {},
   "outputs": [],
   "source": [
    "def lightsOn():\n",
    "    GPIO.output(8,GPIO.LOW)"
   ]
  },
  {
   "cell_type": "code",
   "execution_count": null,
   "id": "fe5f5587",
   "metadata": {},
   "outputs": [],
   "source": [
    "def lightsOff():\n",
    "    GPIO.output(8,GPIO.LOW)"
   ]
  },
  {
   "cell_type": "code",
   "execution_count": null,
   "id": "4117f117",
   "metadata": {},
   "outputs": [],
   "source": [
    "def saveData(df, date):\n",
    "    df.to_csv(\"{}_.csv\".format(date))"
   ]
  },
  {
   "cell_type": "code",
   "execution_count": null,
   "id": "a785f800",
   "metadata": {},
   "outputs": [],
   "source": [
    "while True:\n",
    "    curr_date = getDate()\n",
    "    curr_time = getTime()\n",
    "    air_temp = getTempAir()\n",
    "    soil_temp = getSoilTemp()\n",
    "    humidity = getHumidity()\n",
    "    moisture = getMoisture()\n",
    "    gas_value = getGas()\n",
    "    \n",
    "    \n",
    "    plotDataPoint(df)\n",
    "    if (getMoisture < THRESHOLDVAL):\n",
    "        runWater()\n",
    "        lightsOff()\n",
    "    else:\n",
    "        stopWater()\n",
    "        lightsOn()\n",
    "        \n",
    "    time.sleep(TIME_STEP)"
   ]
  }
 ],
 "metadata": {
  "kernelspec": {
   "display_name": "Python 3 (ipykernel)",
   "language": "python",
   "name": "python3"
  },
  "language_info": {
   "codemirror_mode": {
    "name": "ipython",
    "version": 3
   },
   "file_extension": ".py",
   "mimetype": "text/x-python",
   "name": "python",
   "nbconvert_exporter": "python",
   "pygments_lexer": "ipython3",
   "version": "3.8.5"
  }
 },
 "nbformat": 4,
 "nbformat_minor": 5
}
