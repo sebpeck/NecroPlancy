{
 "cells": [
  {
   "cell_type": "code",
   "execution_count": 1,
   "id": "a28842bf",
   "metadata": {},
   "outputs": [],
   "source": [
    "#import statements for OS stuff\n",
    "import os\n",
    "import sys\n",
    "import time\n",
    "import board\n",
    "import RPi.GPIO as GPIO\n",
    "\n",
    "#for data\n",
    "import numpy as np\n",
    "import pandas as pd\n",
    "import matplotlib.pyplot as plt\n",
    "\n",
    "#for interactive plots\n",
    "from ipywidgets import widgets, interactive\n",
    "\n",
    "#hide those pesky warnings\n",
    "import warnings\n",
    "warnings.filterwarnings('ignore')\n",
    "\n",
    "#for filechecking\n",
    "from os.path import exists\n",
    "\n",
    "#for sensors\n",
    "import adafruit_bme680\n",
    "import adafruit_seesaw.seesaw import seesaw"
   ]
  },
  {
   "cell_type": "code",
   "execution_count": 30,
   "id": "ad625d46",
   "metadata": {},
   "outputs": [
    {
     "name": "stdout",
     "output_type": "stream",
     "text": [
      "0.009540821362563179\n",
      "57.441812625968744\n"
     ]
    },
    {
     "ename": "NameError",
     "evalue": "name 'y' is not defined",
     "output_type": "error",
     "traceback": [
      "\u001b[1;31m---------------------------------------------------------------------------\u001b[0m",
      "\u001b[1;31mNameError\u001b[0m                                 Traceback (most recent call last)",
      "\u001b[1;32mC:\\Users\\SEBAST~1\\AppData\\Local\\Temp/ipykernel_23076/1201253987.py\u001b[0m in \u001b[0;36m<module>\u001b[1;34m\u001b[0m\n\u001b[0;32m     30\u001b[0m \u001b[1;31m# Creating vectors X and Y\u001b[0m\u001b[1;33m\u001b[0m\u001b[1;33m\u001b[0m\u001b[1;33m\u001b[0m\u001b[0m\n\u001b[0;32m     31\u001b[0m \u001b[0mx\u001b[0m \u001b[1;33m=\u001b[0m \u001b[0mnp\u001b[0m\u001b[1;33m.\u001b[0m\u001b[0mlinspace\u001b[0m\u001b[1;33m(\u001b[0m\u001b[1;36m0\u001b[0m\u001b[1;33m,\u001b[0m \u001b[1;36m.01\u001b[0m\u001b[1;33m,\u001b[0m \u001b[1;36m1000\u001b[0m\u001b[1;33m)\u001b[0m\u001b[1;33m\u001b[0m\u001b[1;33m\u001b[0m\u001b[0m\n\u001b[1;32m---> 32\u001b[1;33m \u001b[0my\u001b[0m \u001b[1;33m=\u001b[0m \u001b[0mx\u001b[0m \u001b[1;33m/\u001b[0m \u001b[1;33m(\u001b[0m\u001b[1;36m1.27\u001b[0m\u001b[1;33m*\u001b[0m\u001b[1;36m10\u001b[0m\u001b[1;33m**\u001b[0m\u001b[1;36m7\u001b[0m \u001b[1;33m+\u001b[0m \u001b[0my\u001b[0m\u001b[1;33m*\u001b[0m\u001b[1;36m2.27\u001b[0m\u001b[1;33m*\u001b[0m\u001b[1;36m10\u001b[0m\u001b[1;33m**\u001b[0m\u001b[1;36m10\u001b[0m\u001b[1;33m)\u001b[0m\u001b[1;33m\u001b[0m\u001b[1;33m\u001b[0m\u001b[0m\n\u001b[0m\u001b[0;32m     33\u001b[0m \u001b[1;33m\u001b[0m\u001b[0m\n\u001b[0;32m     34\u001b[0m \u001b[0mfig\u001b[0m \u001b[1;33m=\u001b[0m \u001b[0mplt\u001b[0m\u001b[1;33m.\u001b[0m\u001b[0mfigure\u001b[0m\u001b[1;33m(\u001b[0m\u001b[0mfigsize\u001b[0m \u001b[1;33m=\u001b[0m \u001b[1;33m(\u001b[0m\u001b[1;36m10\u001b[0m\u001b[1;33m,\u001b[0m \u001b[1;36m5\u001b[0m\u001b[1;33m)\u001b[0m\u001b[1;33m)\u001b[0m\u001b[1;33m\u001b[0m\u001b[1;33m\u001b[0m\u001b[0m\n",
      "\u001b[1;31mNameError\u001b[0m: name 'y' is not defined"
     ]
    }
   ],
   "source": [
    "#i2c sensor\n",
    "i2c = board.I2C()\n",
    "\n",
    "ss= Seesaw(i2c, addr = 0x36)\n",
    "\n",
    "bme680 = adafruit_bme680.Adafruit_BME680_I2C(i2c, debug=False)\n",
    "bme680.sea_level_pressure = 1013.25\n",
    "temperature_offset = -5\n",
    "\n",
    "GPIO.setmode(GPIO.BOARD)\n",
    "GPIO.setwarnings(False)\n",
    "#light\n",
    "GPIO.setup(8, GPIO.OUT)\n",
    "#pump\n",
    "GPIO.setup(10, GPIO.OUT)\n",
    "\n",
    "\n",
    "TIME_STEP = 1\n",
    "THRESHOLDVAL = 300\n",
    "totalTime = 0;\n",
    "\n",
    "df = pd.DataFrame()\n",
    "df['Time'] = 0\n",
    "df['Air Temp'] = 0.0\n",
    "df['Soil Temp'] = 0.0\n",
    "df['Humidity'] = 0.0\n",
    "df['Moisture'] = 0.0\n",
    "df['Gas'] = 0.0\n",
    "\n",
    "df"
   ]
  },
  {
   "cell_type": "code",
   "execution_count": null,
   "id": "c0f62823",
   "metadata": {},
   "outputs": [],
   "source": [
    "def getTempAir():\n",
    "    return (bme680.temperature + temperature_offset)"
   ]
  },
  {
   "cell_type": "code",
   "execution_count": null,
   "id": "3d9d326e",
   "metadata": {},
   "outputs": [],
   "source": [
    "def getGas():\n",
    "    return bme680.gas"
   ]
  },
  {
   "cell_type": "code",
   "execution_count": null,
   "id": "aa903fc8",
   "metadata": {},
   "outputs": [],
   "source": [
    "def getHumidity():\n",
    "    return bme680.relative_humidity"
   ]
  },
  {
   "cell_type": "code",
   "execution_count": null,
   "id": "dc665bd9",
   "metadata": {},
   "outputs": [],
   "source": [
    "def getMoisture():\n",
    "    return (ss.moisture_read())"
   ]
  },
  {
   "cell_type": "code",
   "execution_count": null,
   "id": "7669cee8",
   "metadata": {},
   "outputs": [],
   "source": [
    "def getSoilTemp():\n",
    "    return (ss.getTemp())"
   ]
  },
  {
   "cell_type": "code",
   "execution_count": null,
   "id": "25994153",
   "metadata": {},
   "outputs": [],
   "source": [
    "def plotDataPoint(df):\n",
    "    df.loc[len(df.index)] = [getTime, getTempAir, getSoilTemp, getHumidity, getMoisture, getGas]\n",
    "    print(df.loc[len(df.index))"
   ]
  },
  {
   "cell_type": "code",
   "execution_count": null,
   "id": "2bf522ba",
   "metadata": {},
   "outputs": [],
   "source": [
    "def runWater():\n",
    "    GPIO.output(10,GPIO.HIGH)"
   ]
  },
  {
   "cell_type": "code",
   "execution_count": null,
   "id": "9cb0f380",
   "metadata": {},
   "outputs": [],
   "source": [
    "def stopWater():\n",
    "    GPIO.output(10,GPIO.LOW)"
   ]
  },
  {
   "cell_type": "code",
   "execution_count": null,
   "id": "e7fed6d6",
   "metadata": {},
   "outputs": [],
   "source": [
    "def lightsOn():\n",
    "    GPIO.output(8,GPIO.LOW)"
   ]
  },
  {
   "cell_type": "code",
   "execution_count": null,
   "id": "fe5f5587",
   "metadata": {},
   "outputs": [],
   "source": [
    "def lightsOff():\n",
    "    GPIO.output(8,GPIO.LOW)"
   ]
  },
  {
   "cell_type": "code",
   "execution_count": null,
   "id": "a785f800",
   "metadata": {},
   "outputs": [],
   "source": [
    "while True:\n",
    "    plotDataPoint(df)\n",
    "    if (getMoisture < THRESHOLDVAL):\n",
    "        runWater()\n",
    "        lightsOff()\n",
    "    else:\n",
    "        stopWater()\n",
    "        lightsOn()\n",
    "\n",
    "    time.sleep(TIME_STEP)"
   ]
  }
 ],
 "metadata": {
  "kernelspec": {
   "display_name": "Python 3 (ipykernel)",
   "language": "python",
   "name": "python3"
  },
  "language_info": {
   "codemirror_mode": {
    "name": "ipython",
    "version": 3
   },
   "file_extension": ".py",
   "mimetype": "text/x-python",
   "name": "python",
   "nbconvert_exporter": "python",
   "pygments_lexer": "ipython3",
   "version": "3.8.5"
  }
 },
 "nbformat": 4,
 "nbformat_minor": 5
}
